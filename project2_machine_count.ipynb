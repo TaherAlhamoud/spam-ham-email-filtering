{
 "cells": [
  {
   "cell_type": "code",
   "execution_count": 1,
   "id": "2122b9e2",
   "metadata": {},
   "outputs": [],
   "source": [
    "import pandas as pd\n",
    "import numpy as np\n",
    "import matplotlib.pyplot as plt \n",
    "import seaborn as sns\n",
    "from sklearn.feature_extraction.text import CountVectorizer\n",
    "from sklearn.naive_bayes import MultinomialNB\n",
    "from sklearn.preprocessing import LabelEncoder \n",
    "from sklearn.model_selection import train_test_split\n",
    "from sklearn.metrics import accuracy_score\n",
    "from sklearn.metrics import confusion_matrix\n",
    "from sklearn.metrics import classification_report"
   ]
  },
  {
   "cell_type": "code",
   "execution_count": 2,
   "id": "771d9dab",
   "metadata": {},
   "outputs": [],
   "source": [
    "df = pd.read_csv('file:///C:/Users/taher/Desktop/spam_ham_dataset.csv')"
   ]
  },
  {
   "cell_type": "code",
   "execution_count": 3,
   "id": "3148691a",
   "metadata": {},
   "outputs": [
    {
     "data": {
      "text/html": [
       "<div>\n",
       "<style scoped>\n",
       "    .dataframe tbody tr th:only-of-type {\n",
       "        vertical-align: middle;\n",
       "    }\n",
       "\n",
       "    .dataframe tbody tr th {\n",
       "        vertical-align: top;\n",
       "    }\n",
       "\n",
       "    .dataframe thead th {\n",
       "        text-align: right;\n",
       "    }\n",
       "</style>\n",
       "<table border=\"1\" class=\"dataframe\">\n",
       "  <thead>\n",
       "    <tr style=\"text-align: right;\">\n",
       "      <th></th>\n",
       "      <th>Unnamed: 0</th>\n",
       "      <th>label</th>\n",
       "      <th>text</th>\n",
       "      <th>label_num</th>\n",
       "    </tr>\n",
       "  </thead>\n",
       "  <tbody>\n",
       "    <tr>\n",
       "      <th>0</th>\n",
       "      <td>605</td>\n",
       "      <td>ham</td>\n",
       "      <td>Subject: enron methanol ; meter # : 988291\\r\\n...</td>\n",
       "      <td>0</td>\n",
       "    </tr>\n",
       "    <tr>\n",
       "      <th>1</th>\n",
       "      <td>2349</td>\n",
       "      <td>ham</td>\n",
       "      <td>Subject: hpl nom for january 9 , 2001\\r\\n( see...</td>\n",
       "      <td>0</td>\n",
       "    </tr>\n",
       "    <tr>\n",
       "      <th>2</th>\n",
       "      <td>3624</td>\n",
       "      <td>ham</td>\n",
       "      <td>Subject: neon retreat\\r\\nho ho ho , we ' re ar...</td>\n",
       "      <td>0</td>\n",
       "    </tr>\n",
       "    <tr>\n",
       "      <th>3</th>\n",
       "      <td>4685</td>\n",
       "      <td>spam</td>\n",
       "      <td>Subject: photoshop , windows , office . cheap ...</td>\n",
       "      <td>1</td>\n",
       "    </tr>\n",
       "    <tr>\n",
       "      <th>4</th>\n",
       "      <td>2030</td>\n",
       "      <td>ham</td>\n",
       "      <td>Subject: re : indian springs\\r\\nthis deal is t...</td>\n",
       "      <td>0</td>\n",
       "    </tr>\n",
       "  </tbody>\n",
       "</table>\n",
       "</div>"
      ],
      "text/plain": [
       "   Unnamed: 0 label                                               text  \\\n",
       "0         605   ham  Subject: enron methanol ; meter # : 988291\\r\\n...   \n",
       "1        2349   ham  Subject: hpl nom for january 9 , 2001\\r\\n( see...   \n",
       "2        3624   ham  Subject: neon retreat\\r\\nho ho ho , we ' re ar...   \n",
       "3        4685  spam  Subject: photoshop , windows , office . cheap ...   \n",
       "4        2030   ham  Subject: re : indian springs\\r\\nthis deal is t...   \n",
       "\n",
       "   label_num  \n",
       "0          0  \n",
       "1          0  \n",
       "2          0  \n",
       "3          1  \n",
       "4          0  "
      ]
     },
     "execution_count": 3,
     "metadata": {},
     "output_type": "execute_result"
    }
   ],
   "source": [
    "df.head()"
   ]
  },
  {
   "cell_type": "code",
   "execution_count": 5,
   "id": "f7e37892",
   "metadata": {},
   "outputs": [
    {
     "data": {
      "text/html": [
       "<div>\n",
       "<style scoped>\n",
       "    .dataframe tbody tr th:only-of-type {\n",
       "        vertical-align: middle;\n",
       "    }\n",
       "\n",
       "    .dataframe tbody tr th {\n",
       "        vertical-align: top;\n",
       "    }\n",
       "\n",
       "    .dataframe thead th {\n",
       "        text-align: right;\n",
       "    }\n",
       "</style>\n",
       "<table border=\"1\" class=\"dataframe\">\n",
       "  <thead>\n",
       "    <tr style=\"text-align: right;\">\n",
       "      <th></th>\n",
       "      <th>count</th>\n",
       "      <th>mean</th>\n",
       "      <th>std</th>\n",
       "      <th>min</th>\n",
       "      <th>25%</th>\n",
       "      <th>50%</th>\n",
       "      <th>75%</th>\n",
       "      <th>max</th>\n",
       "    </tr>\n",
       "  </thead>\n",
       "  <tbody>\n",
       "    <tr>\n",
       "      <th>Unnamed: 0</th>\n",
       "      <td>5171.0</td>\n",
       "      <td>2585.000000</td>\n",
       "      <td>1492.883452</td>\n",
       "      <td>0.0</td>\n",
       "      <td>1292.5</td>\n",
       "      <td>2585.0</td>\n",
       "      <td>3877.5</td>\n",
       "      <td>5170.0</td>\n",
       "    </tr>\n",
       "    <tr>\n",
       "      <th>label_num</th>\n",
       "      <td>5171.0</td>\n",
       "      <td>0.289886</td>\n",
       "      <td>0.453753</td>\n",
       "      <td>0.0</td>\n",
       "      <td>0.0</td>\n",
       "      <td>0.0</td>\n",
       "      <td>1.0</td>\n",
       "      <td>1.0</td>\n",
       "    </tr>\n",
       "  </tbody>\n",
       "</table>\n",
       "</div>"
      ],
      "text/plain": [
       "             count         mean          std  min     25%     50%     75%  \\\n",
       "Unnamed: 0  5171.0  2585.000000  1492.883452  0.0  1292.5  2585.0  3877.5   \n",
       "label_num   5171.0     0.289886     0.453753  0.0     0.0     0.0     1.0   \n",
       "\n",
       "               max  \n",
       "Unnamed: 0  5170.0  \n",
       "label_num      1.0  "
      ]
     },
     "execution_count": 5,
     "metadata": {},
     "output_type": "execute_result"
    }
   ],
   "source": [
    "df.describe().T"
   ]
  },
  {
   "cell_type": "code",
   "execution_count": 4,
   "id": "6b6eaa1a",
   "metadata": {},
   "outputs": [
    {
     "data": {
      "text/plain": [
       "ham     3672\n",
       "spam    1499\n",
       "Name: label, dtype: int64"
      ]
     },
     "execution_count": 4,
     "metadata": {},
     "output_type": "execute_result"
    }
   ],
   "source": [
    "df['label'].value_counts()"
   ]
  },
  {
   "cell_type": "code",
   "execution_count": 6,
   "id": "964d7f54",
   "metadata": {},
   "outputs": [
    {
     "data": {
      "image/png": "[encoded data removed]",
      "text/plain": [
       "<Figure size 432x288 with 1 Axes>"
      ]
     },
     "metadata": {
      "needs_background": "light"
     },
     "output_type": "display_data"
    }
   ],
   "source": [
    "count_Class=pd.value_counts(df['label'], sort= True)\n",
    "count_Class.plot(kind= 'bar', color= [\"blue\", \"orange\"])\n",
    "plt.title('Bar chart')\n",
    "plt.show()"
   ]
  },
  {
   "cell_type": "code",
   "execution_count": 7,
   "id": "8dbdd4b4",
   "metadata": {},
   "outputs": [],
   "source": [
    "X,y = df.text, df.label"
   ]
  },
  {
   "cell_type": "code",
   "execution_count": 8,
   "id": "04c21583",
   "metadata": {},
   "outputs": [],
   "source": [
    "X_train , X_test, y_train , y_test = train_test_split(X, y, test_size=0.2)"
   ]
  },
  {
   "cell_type": "code",
   "execution_count": 9,
   "id": "4c036561",
   "metadata": {},
   "outputs": [],
   "source": [
    "Vectorizer = CountVectorizer() #stop_words = 'english'"
   ]
  },
  {
   "cell_type": "code",
   "execution_count": 10,
   "id": "9d4bb4f6",
   "metadata": {},
   "outputs": [],
   "source": [
    "count = Vectorizer.fit_transform(X_train.values)"
   ]
  },
  {
   "cell_type": "code",
   "execution_count": 11,
   "id": "a980e143",
   "metadata": {},
   "outputs": [
    {
     "data": {
      "text/plain": [
       "array([[0, 0, 0, ..., 0, 0, 0],\n",
       "       [0, 0, 0, ..., 0, 0, 0],\n",
       "       [0, 1, 0, ..., 0, 0, 0],\n",
       "       ...,\n",
       "       [0, 0, 0, ..., 0, 0, 0],\n",
       "       [0, 0, 0, ..., 0, 0, 0],\n",
       "       [0, 0, 0, ..., 0, 0, 0]], dtype=int64)"
      ]
     },
     "execution_count": 11,
     "metadata": {},
     "output_type": "execute_result"
    }
   ],
   "source": [
    "frequency_matrix = Vectorizer.transform(X_train.values).toarray()\n",
    "frequency_matrix"
   ]
  },
  {
   "cell_type": "code",
   "execution_count": 12,
   "id": "f53b87bd",
   "metadata": {},
   "outputs": [],
   "source": [
    "labels = y_train.values"
   ]
  },
  {
   "cell_type": "code",
   "execution_count": 13,
   "id": "216017b2",
   "metadata": {},
   "outputs": [
    {
     "data": {
      "text/plain": [
       "MultinomialNB()"
      ]
     },
     "execution_count": 13,
     "metadata": {},
     "output_type": "execute_result"
    }
   ],
   "source": [
    "model =  MultinomialNB()#naive bayes\n",
    "model.fit(count, labels)"
   ]
  },
  {
   "cell_type": "code",
   "execution_count": 14,
   "id": "1ef3f20f",
   "metadata": {},
   "outputs": [],
   "source": [
    "y_pred = model.predict(Vectorizer.transform(X_test))"
   ]
  },
  {
   "cell_type": "code",
   "execution_count": 15,
   "id": "13e7fefb",
   "metadata": {},
   "outputs": [
    {
     "name": "stdout",
     "output_type": "stream",
     "text": [
      "0.9826086956521739\n"
     ]
    }
   ],
   "source": [
    "print(accuracy_score(y_test, y_pred))"
   ]
  },
  {
   "cell_type": "code",
   "execution_count": 16,
   "id": "dc78ae6c",
   "metadata": {},
   "outputs": [
    {
     "name": "stdout",
     "output_type": "stream",
     "text": [
      "              precision    recall  f1-score   support\n",
      "\n",
      "         ham       0.99      0.99      0.99       734\n",
      "        spam       0.98      0.96      0.97       301\n",
      "\n",
      "    accuracy                           0.98      1035\n",
      "   macro avg       0.98      0.98      0.98      1035\n",
      "weighted avg       0.98      0.98      0.98      1035\n",
      "\n"
     ]
    }
   ],
   "source": [
    "print(classification_report(y_test, y_pred))"
   ]
  },
  {
   "cell_type": "code",
   "execution_count": 17,
   "id": "9b23d9e4",
   "metadata": {},
   "outputs": [
    {
     "name": "stdout",
     "output_type": "stream",
     "text": [
      "[[743  10]\n",
      " [  6 276]]\n"
     ]
    },
    {
     "data": {
      "text/plain": [
       "Text(0.5, 1.0, 'Confusion Matrix')"
      ]
     },
     "execution_count": 17,
     "metadata": {},
     "output_type": "execute_result"
    },
    {
     "data": {
      "image/png": "[encoded data removed]",
      "text/plain": [
       "<Figure size 432x288 with 2 Axes>"
      ]
     },
     "metadata": {
      "needs_background": "light"
     },
     "output_type": "display_data"
    }
   ],
   "source": [
    "import seaborn as sns\n",
    "print(confusion_matrix(y_test, y_pred))\n",
    "sns.heatmap(confusion_matrix(y_test, y_pred),annot=True,annot_kws={'size':14}, fmt='d').set_title('Confusion Matrix')"
   ]
  },
  {
   "cell_type": "code",
   "execution_count": 18,
   "id": "161e41be",
   "metadata": {},
   "outputs": [
    {
     "name": "stdout",
     "output_type": "stream",
     "text": [
      "0.8821256038647343\n",
      "              precision    recall  f1-score   support\n",
      "\n",
      "         ham       0.95      0.89      0.92       753\n",
      "        spam       0.74      0.87      0.80       282\n",
      "\n",
      "    accuracy                           0.88      1035\n",
      "   macro avg       0.84      0.88      0.86      1035\n",
      "weighted avg       0.89      0.88      0.88      1035\n",
      "\n"
     ]
    }
   ],
   "source": [
    "from sklearn.neighbors import KNeighborsClassifier\n",
    "\n",
    "knn= KNeighborsClassifier(n_neighbors=1)\n",
    "knn.fit(count, labels)\n",
    "predicted2 = knn.predict(Vectorizer.transform(X_test))\n",
    "print(accuracy_score(y_test, predicted2))\n",
    "print(classification_report(y_test, predicted2))"
   ]
  },
  {
   "cell_type": "code",
   "execution_count": 19,
   "id": "da176ffe",
   "metadata": {},
   "outputs": [
    {
     "name": "stdout",
     "output_type": "stream",
     "text": [
      "[[667  86]\n",
      " [ 36 246]]\n"
     ]
    },
    {
     "data": {
      "text/plain": [
       "Text(0.5, 1.0, 'Confusion Matrix')"
      ]
     },
     "execution_count": 19,
     "metadata": {},
     "output_type": "execute_result"
    },
    {
     "data": {
      "image/png": "[encoded data removed]",
      "text/plain": [
       "<Figure size 432x288 with 2 Axes>"
      ]
     },
     "metadata": {
      "needs_background": "light"
     },
     "output_type": "display_data"
    }
   ],
   "source": [
    "print(confusion_matrix(y_test, predicted2))\n",
    "sns.heatmap(confusion_matrix(y_test, predicted2),annot=True,annot_kws={'size':14}, fmt='d').set_title('Confusion Matrix')"
   ]
  },
  {
   "cell_type": "code",
   "execution_count": 20,
   "id": "d0b88dbb",
   "metadata": {},
   "outputs": [
    {
     "name": "stdout",
     "output_type": "stream",
     "text": [
      "0.8695652173913043\n",
      "              precision    recall  f1-score   support\n",
      "\n",
      "         ham       0.96      0.86      0.91       753\n",
      "        spam       0.71      0.89      0.79       282\n",
      "\n",
      "    accuracy                           0.87      1035\n",
      "   macro avg       0.83      0.88      0.85      1035\n",
      "weighted avg       0.89      0.87      0.87      1035\n",
      "\n",
      "[[648 105]\n",
      " [ 30 252]]\n"
     ]
    },
    {
     "data": {
      "text/plain": [
       "Text(0.5, 1.0, 'Confusion Matrix')"
      ]
     },
     "execution_count": 20,
     "metadata": {},
     "output_type": "execute_result"
    },
    {
     "data": {
      "image/png": "[encoded data removed]",
      "text/plain": [
       "<Figure size 432x288 with 2 Axes>"
      ]
     },
     "metadata": {
      "needs_background": "light"
     },
     "output_type": "display_data"
    }
   ],
   "source": [
    "knn1= KNeighborsClassifier(n_neighbors=3)\n",
    "knn1.fit(count, labels)\n",
    "predicted21 = knn1.predict(Vectorizer.transform(X_test))\n",
    "print(accuracy_score(y_test, predicted21))\n",
    "print(classification_report(y_test, predicted21))\n",
    "print(confusion_matrix(y_test, predicted21))\n",
    "sns.heatmap(confusion_matrix(y_test, predicted21),annot=True,annot_kws={'size':14}, fmt='d').set_title('Confusion Matrix')"
   ]
  },
  {
   "cell_type": "code",
   "execution_count": 21,
   "id": "c7e770ea",
   "metadata": {},
   "outputs": [
    {
     "name": "stdout",
     "output_type": "stream",
     "text": [
      "The SVM_model is 72.7536231884058% accurate\n"
     ]
    }
   ],
   "source": [
    "from sklearn import svm\n",
    "from sklearn.model_selection import GridSearchCV\n",
    "param_grid={'C':[0.1],'gamma':[0.5],'kernel':['rbf']}\n",
    "svc=svm.SVC(probability=True)\n",
    "model=GridSearchCV(svc,param_grid)\n",
    "model.fit(count, labels)\n",
    "y_pred_svm = model.predict(Vectorizer.transform(X_test))\n",
    "accuracy = accuracy_score(y_pred_svm, y_test)\n",
    "print(f\"The SVM_model is {accuracy*100}% accurate\")"
   ]
  },
  {
   "cell_type": "code",
   "execution_count": 23,
   "id": "8463b5bd",
   "metadata": {},
   "outputs": [
    {
     "name": "stdout",
     "output_type": "stream",
     "text": [
      "\n",
      "Classification Report: \n",
      "               precision    recall  f1-score   support\n",
      "\n",
      "         ham       0.73      1.00      0.84       753\n",
      "        spam       0.50      0.00      0.01       282\n",
      "\n",
      "    accuracy                           0.73      1035\n",
      "   macro avg       0.61      0.50      0.42      1035\n",
      "weighted avg       0.67      0.73      0.61      1035\n",
      "\n"
     ]
    },
    {
     "data": {
      "image/png": "[encoded data removed]",
      "text/plain": [
       "<Figure size 432x288 with 2 Axes>"
      ]
     },
     "metadata": {},
     "output_type": "display_data"
    }
   ],
   "source": [
    "cm_svm = confusion_matrix(y_test, y_pred_svm)\n",
    "df_cm = pd.DataFrame(cm_svm, range(2), range(2))\n",
    "sns.set(font_scale=1)\n",
    "sns.heatmap(df_cm, annot=True, annot_kws={'size':14}, fmt='d').set_title('Confusion Matrix')\n",
    "print('\\nClassification Report: \\n', classification_report(y_test, y_pred_svm))"
   ]
  },
  {
   "cell_type": "code",
   "execution_count": 24,
   "id": "d2c50ef2",
   "metadata": {},
   "outputs": [
    {
     "data": {
      "text/plain": [
       "array([[9.81535237e-03, 9.90184648e-01],\n",
       "       [7.32322411e-04, 9.99267678e-01],\n",
       "       [9.99963463e-01, 3.65369817e-05],\n",
       "       ...,\n",
       "       [1.31734949e-02, 9.86826505e-01],\n",
       "       [4.49087338e-07, 9.99999551e-01],\n",
       "       [9.99996812e-01, 3.18843580e-06]])"
      ]
     },
     "execution_count": 24,
     "metadata": {},
     "output_type": "execute_result"
    }
   ],
   "source": [
    "from sklearn.linear_model import LogisticRegression\n",
    "model_logestic = LogisticRegression(solver='liblinear', random_state=0)\n",
    "model_logestic.fit(count, labels)\n",
    "model_logestic.predict_proba(Vectorizer.transform(X_test))\n"
   ]
  },
  {
   "cell_type": "code",
   "execution_count": 25,
   "id": "1b2930f7",
   "metadata": {},
   "outputs": [
    {
     "data": {
      "text/plain": [
       "array(['spam', 'spam', 'ham', ..., 'spam', 'spam', 'ham'], dtype=object)"
      ]
     },
     "execution_count": 25,
     "metadata": {},
     "output_type": "execute_result"
    }
   ],
   "source": [
    "model_logestic.predict(Vectorizer.transform(X_test))"
   ]
  },
  {
   "cell_type": "code",
   "execution_count": 27,
   "id": "9fae22c4",
   "metadata": {},
   "outputs": [
    {
     "name": "stdout",
     "output_type": "stream",
     "text": [
      "\n",
      "Classification Report for logestic regression model: \n",
      "               precision    recall  f1-score   support\n",
      "\n",
      "         ham       0.99      0.98      0.98       753\n",
      "        spam       0.94      0.98      0.96       282\n",
      "\n",
      "    accuracy                           0.98      1035\n",
      "   macro avg       0.97      0.98      0.97      1035\n",
      "weighted avg       0.98      0.98      0.98      1035\n",
      "\n"
     ]
    },
    {
     "data": {
      "image/png": "[encoded data removed]",
      "text/plain": [
       "<Figure size 432x288 with 2 Axes>"
      ]
     },
     "metadata": {},
     "output_type": "display_data"
    }
   ],
   "source": [
    "cm_log = confusion_matrix(y_test, model_logestic.predict(Vectorizer.transform(X_test)))\n",
    "df_cm_log = pd.DataFrame(cm_log, range(2), range(2))\n",
    "sns.set(font_scale=1)\n",
    "sns.heatmap(df_cm_log, annot=True, annot_kws={'size':14}, fmt='d').set_title('Confusion Matrix')\n",
    "print('\\nClassification Report for logestic regression model: \\n', classification_report(y_test, model_logestic.predict(Vectorizer.transform(X_test))))"
   ]
  },
  {
   "cell_type": "code",
   "execution_count": 28,
   "id": "2badacf5",
   "metadata": {},
   "outputs": [
    {
     "data": {
      "text/plain": [
       "DecisionTreeClassifier(max_depth=2, random_state=0)"
      ]
     },
     "execution_count": 28,
     "metadata": {},
     "output_type": "execute_result"
    }
   ],
   "source": [
    "from sklearn.tree import DecisionTreeClassifier\n",
    "clf = DecisionTreeClassifier(max_depth = 2, random_state = 0)\n",
    "clf.fit(count, labels)"
   ]
  },
  {
   "cell_type": "code",
   "execution_count": 29,
   "id": "3049b888",
   "metadata": {},
   "outputs": [
    {
     "data": {
      "text/plain": [
       "array(['ham', 'spam', 'ham', ..., 'spam', 'spam', 'ham'], dtype=object)"
      ]
     },
     "execution_count": 29,
     "metadata": {},
     "output_type": "execute_result"
    }
   ],
   "source": [
    "clf.predict(Vectorizer.transform(X_test))"
   ]
  },
  {
   "cell_type": "code",
   "execution_count": 30,
   "id": "c651b35c",
   "metadata": {},
   "outputs": [
    {
     "data": {
      "text/plain": [
       "array(['spam', 'ham', 'ham', 'ham', 'ham', 'ham', 'ham', 'ham', 'ham'],\n",
       "      dtype=object)"
      ]
     },
     "execution_count": 30,
     "metadata": {},
     "output_type": "execute_result"
    }
   ],
   "source": [
    "clf.predict(Vectorizer.transform(X_test[1:10]))"
   ]
  },
  {
   "cell_type": "code",
   "execution_count": 31,
   "id": "32a59733",
   "metadata": {},
   "outputs": [
    {
     "name": "stdout",
     "output_type": "stream",
     "text": [
      "0.7913043478260869\n"
     ]
    }
   ],
   "source": [
    "score = clf.score((Vectorizer.transform(X_test)), y_test)\n",
    "print(score)"
   ]
  },
  {
   "cell_type": "code",
   "execution_count": 32,
   "id": "f20acf35",
   "metadata": {},
   "outputs": [
    {
     "name": "stdout",
     "output_type": "stream",
     "text": [
      "depth\tscore\n",
      "1 \t 0.7275362318840579\n",
      "2 \t 0.7913043478260869\n",
      "3 \t 0.7922705314009661\n",
      "4 \t 0.7681159420289855\n",
      "5 \t 0.81256038647343\n"
     ]
    }
   ],
   "source": [
    "# List of values to try for max_depth:\n",
    "max_depth_range = list(range(1, 6))\n",
    "# List to store the accuracy for each value of max_depth:\n",
    "accuracy = []\n",
    "print (\"depth\\tscore\")\n",
    "for depth in max_depth_range:\n",
    "    \n",
    "    clf = DecisionTreeClassifier(max_depth = depth, \n",
    "                             random_state = 0)\n",
    "    clf.fit(count, labels)\n",
    "    score = clf.score((Vectorizer.transform(X_test)), y_test)\n",
    "    print(depth,\"\\t\",score)\n",
    "    accuracy.append(score)"
   ]
  },
  {
   "cell_type": "code",
   "execution_count": 33,
   "id": "9f90e2c0",
   "metadata": {},
   "outputs": [
    {
     "data": {
      "text/plain": [
       "0.9514013170977063"
      ]
     },
     "execution_count": 33,
     "metadata": {},
     "output_type": "execute_result"
    }
   ],
   "source": [
    "from sklearn.model_selection import KFold\n",
    "from sklearn.ensemble import RandomForestClassifier\n",
    "from sklearn.model_selection import cross_val_score\n",
    "cv = KFold(n_splits=10)\n",
    "model_RandomF = RandomForestClassifier(n_estimators=100, max_features=3)\n",
    "score = cross_val_score(model_RandomF, count, labels, cv=cv)\n",
    "score.mean()"
   ]
  },
  {
   "cell_type": "code",
   "execution_count": 39,
   "id": "56f163f7",
   "metadata": {},
   "outputs": [
    {
     "data": {
      "text/plain": [
       "0.9767876150705923"
      ]
     },
     "execution_count": 39,
     "metadata": {},
     "output_type": "execute_result"
    }
   ],
   "source": [
    "#voting classifier about 6 min\n",
    "from xgboost import XGBClassifier\n",
    "from sklearn.ensemble import VotingClassifier\n",
    "from sklearn.svm import SVC\n",
    "from sklearn.ensemble import ExtraTreesClassifier\n",
    "cv = KFold(n_splits=10)\n",
    "\n",
    "models = []\n",
    "models.append(('xgb', XGBClassifier(n_estimators=150)))\n",
    "models.append(('svc', SVC()))\n",
    "models.append(('extra', ExtraTreesClassifier(n_estimators=100, max_features=3)))\n",
    "\n",
    "model = VotingClassifier(models)\n",
    "score = cross_val_score(model, count, labels, cv=cv)\n",
    "score.mean()"
   ]
  },
  {
   "cell_type": "code",
   "execution_count": 77,
   "id": "a60c6b15",
   "metadata": {},
   "outputs": [
    {
     "data": {
      "text/plain": [
       "0.9823460949105755"
      ]
     },
     "execution_count": 77,
     "metadata": {},
     "output_type": "execute_result"
    }
   ],
   "source": [
    "#stacking classifier tooke time about 40 min !\n",
    "from sklearn.ensemble import StackingClassifier\n",
    "cv = KFold(n_splits=10)\n",
    "models = []\n",
    "models.append(('xgb', XGBClassifier(n_estimators=150)))\n",
    "models.append(('svc', SVC()))\n",
    "models.append(('extra', ExtraTreesClassifier(n_estimators=100, max_features=3)))\n",
    "model = StackingClassifier(estimators=models, final_estimator=LogisticRegression(),cv=cv)\n",
    "score = cross_val_score(model, count, labels, cv=cv)\n",
    "score.mean()"
   ]
  },
  {
   "cell_type": "code",
   "execution_count": null,
   "id": "4262e0c4",
   "metadata": {},
   "outputs": [],
   "source": []
  }
 ],
 "metadata": {
  "kernelspec": {
   "display_name": "Python 3 (ipykernel)",
   "language": "python",
   "name": "python3"
  },
  "language_info": {
   "codemirror_mode": {
    "name": "ipython",
    "version": 3
   },
   "file_extension": ".py",
   "mimetype": "text/x-python",
   "name": "python",
   "nbconvert_exporter": "python",
   "pygments_lexer": "ipython3",
   "version": "3.7.4"
  }
 },
 "nbformat": 4,
 "nbformat_minor": 5
}
